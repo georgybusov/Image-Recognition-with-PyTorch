{
 "cells": [
  {
   "cell_type": "code",
   "execution_count": 3,
   "id": "93cd9e5d",
   "metadata": {},
   "outputs": [],
   "source": [
    "import torch\n",
    "import torch.nn as nn\n",
    "import torch.nn.functional as F\n",
    "from torch.utils.data import DataLoader\n",
    "from torchvision import datasets, transforms\n",
    "from torchvision.utils import make_grid\n",
    "\n",
    "import numpy as np\n",
    "import pandas as pd\n",
    "from sklearn.metrics import confusion_matrix\n",
    "import matplotlib.pyplot as plt\n",
    "%matplotlib inline"
   ]
  },
  {
   "cell_type": "code",
   "execution_count": 26,
   "id": "1b35a3c6",
   "metadata": {},
   "outputs": [],
   "source": [
    "# Let's load the data through torchvision\n",
    "\n",
    "\n",
    "transform = transforms.ToTensor()\n",
    "\n",
    "train_data = datasets.MNIST(root='../Data', train=True, download=True, transform=transform)\n",
    "test_data = datasets.MNIST(root='../Data', train=False, download=True, transform=transform)"
   ]
  },
  {
   "cell_type": "code",
   "execution_count": 5,
   "id": "882297b8",
   "metadata": {},
   "outputs": [
    {
     "data": {
      "text/plain": [
       "Dataset MNIST\n",
       "    Number of datapoints: 60000\n",
       "    Root location: ../Data\n",
       "    Split: Train\n",
       "    StandardTransform\n",
       "Transform: ToTensor()"
      ]
     },
     "execution_count": 5,
     "metadata": {},
     "output_type": "execute_result"
    }
   ],
   "source": [
    "train_data"
   ]
  },
  {
   "cell_type": "code",
   "execution_count": 6,
   "id": "557aef5a",
   "metadata": {},
   "outputs": [
    {
     "data": {
      "text/plain": [
       "Dataset MNIST\n",
       "    Number of datapoints: 10000\n",
       "    Root location: ../Data\n",
       "    Split: Test\n",
       "    StandardTransform\n",
       "Transform: ToTensor()"
      ]
     },
     "execution_count": 6,
     "metadata": {},
     "output_type": "execute_result"
    }
   ],
   "source": [
    "test_data"
   ]
  },
  {
   "cell_type": "code",
   "execution_count": 28,
   "id": "38c6ddf6",
   "metadata": {},
   "outputs": [],
   "source": [
    "# Create loaders\n",
    "\n",
    "train_loader = DataLoader(train_data, batch_size=10, shuffle=True)\n",
    "test_loader = DataLoader(test_data, batch_size=10, shuffle=False)"
   ]
  },
  {
   "cell_type": "code",
   "execution_count": 8,
   "id": "a37401b9",
   "metadata": {},
   "outputs": [],
   "source": [
    "# Define layers\n",
    "conv1 = nn.Conv2d(1, 6, 3, 1)\n",
    "conv2 = nn.Conv2d(6, 16, 3, 1)"
   ]
  },
  {
   "cell_type": "code",
   "execution_count": 9,
   "id": "e45a2f29",
   "metadata": {},
   "outputs": [],
   "source": [
    "# Grab the first MNIST record\n",
    "for i, (X_train, y_train) in enumerate(train_data):\n",
    "    break"
   ]
  },
  {
   "cell_type": "code",
   "execution_count": 10,
   "id": "99cb922a",
   "metadata": {},
   "outputs": [
    {
     "name": "stdout",
     "output_type": "stream",
     "text": [
      "torch.Size([1, 1, 28, 28])\n"
     ]
    }
   ],
   "source": [
    "# Create a rank-4 tensor to be passed into the model\n",
    "# (train_loader will have done this already)\n",
    "x = X_train.view(1,1,28,28)\n",
    "print(x.shape)"
   ]
  },
  {
   "cell_type": "code",
   "execution_count": 11,
   "id": "8a501268",
   "metadata": {},
   "outputs": [
    {
     "name": "stdout",
     "output_type": "stream",
     "text": [
      "torch.Size([1, 6, 26, 26])\n"
     ]
    }
   ],
   "source": [
    "# Perform the first convolution/activation\n",
    "x = F.relu(conv1(x))\n",
    "print(x.shape)"
   ]
  },
  {
   "cell_type": "code",
   "execution_count": 12,
   "id": "fdb9daec",
   "metadata": {},
   "outputs": [
    {
     "name": "stdout",
     "output_type": "stream",
     "text": [
      "torch.Size([1, 6, 13, 13])\n"
     ]
    }
   ],
   "source": [
    "# Run the first pooling layer\n",
    "x = F.max_pool2d(x, 2, 2)\n",
    "print(x.shape)"
   ]
  },
  {
   "cell_type": "code",
   "execution_count": 13,
   "id": "6a97f4b9",
   "metadata": {},
   "outputs": [
    {
     "name": "stdout",
     "output_type": "stream",
     "text": [
      "torch.Size([1, 16, 11, 11])\n"
     ]
    }
   ],
   "source": [
    "# Perform the second convolution/activation\n",
    "x = F.relu(conv2(x))\n",
    "print(x.shape)"
   ]
  },
  {
   "cell_type": "code",
   "execution_count": 14,
   "id": "e94d4909",
   "metadata": {},
   "outputs": [
    {
     "name": "stdout",
     "output_type": "stream",
     "text": [
      "torch.Size([1, 16, 5, 5])\n"
     ]
    }
   ],
   "source": [
    "# Run the second pooling layer\n",
    "x = F.max_pool2d(x, 2, 2)\n",
    "print(x.shape)"
   ]
  },
  {
   "cell_type": "code",
   "execution_count": 15,
   "id": "6fae256a",
   "metadata": {},
   "outputs": [
    {
     "name": "stdout",
     "output_type": "stream",
     "text": [
      "torch.Size([1, 400])\n"
     ]
    }
   ],
   "source": [
    "# Flatten the data\n",
    "x = x.view(-1, 5*5*16)\n",
    "print(x.shape)"
   ]
  },
  {
   "cell_type": "code",
   "execution_count": 29,
   "id": "9b37d6db",
   "metadata": {},
   "outputs": [],
   "source": [
    "# Now we can create the classes\n",
    "\n",
    "\n",
    "class ConvolutionalNetwork(nn.Module):\n",
    "    def __init__(self):\n",
    "        super().__init__()\n",
    "        self.conv1 = nn.Conv2d(1, 6, 3, 1)\n",
    "        self.conv2 = nn.Conv2d(6, 16, 3, 1)\n",
    "        self.fc1 = nn.Linear(5*5*16, 120)\n",
    "        self.fc2 = nn.Linear(120, 84)\n",
    "        self.fc3 = nn.Linear(84,10)\n",
    "\n",
    "    def forward(self, X):\n",
    "        X = F.relu(self.conv1(X))\n",
    "        X = F.max_pool2d(X, 2, 2)\n",
    "        X = F.relu(self.conv2(X))\n",
    "        X = F.max_pool2d(X, 2, 2)\n",
    "        X = X.view(-1, 5*5*16)\n",
    "        X = F.relu(self.fc1(X))\n",
    "        X = F.relu(self.fc2(X))\n",
    "        X = self.fc3(X)\n",
    "        return F.log_softmax(X, dim=1)"
   ]
  },
  {
   "cell_type": "code",
   "execution_count": 30,
   "id": "315d60e4",
   "metadata": {},
   "outputs": [
    {
     "data": {
      "text/plain": [
       "ConvolutionalNetwork(\n",
       "  (conv1): Conv2d(1, 6, kernel_size=(3, 3), stride=(1, 1))\n",
       "  (conv2): Conv2d(6, 16, kernel_size=(3, 3), stride=(1, 1))\n",
       "  (fc1): Linear(in_features=400, out_features=120, bias=True)\n",
       "  (fc2): Linear(in_features=120, out_features=84, bias=True)\n",
       "  (fc3): Linear(in_features=84, out_features=10, bias=True)\n",
       ")"
      ]
     },
     "execution_count": 30,
     "metadata": {},
     "output_type": "execute_result"
    }
   ],
   "source": [
    "# Creating model\n",
    "\n",
    "torch.manual_seed(42)\n",
    "model = ConvolutionalNetwork()\n",
    "model"
   ]
  },
  {
   "cell_type": "code",
   "execution_count": 18,
   "id": "6ee05adb",
   "metadata": {},
   "outputs": [],
   "source": [
    "def count_parameters(model):\n",
    "    params = [p.numel() for p in model.parameters() if p.requires_grad]\n",
    "    for item in params:\n",
    "        print(f'{item:>6}')\n",
    "    print(f'______\\n{sum(params):>6}')"
   ]
  },
  {
   "cell_type": "code",
   "execution_count": 19,
   "id": "6574f601",
   "metadata": {},
   "outputs": [
    {
     "name": "stdout",
     "output_type": "stream",
     "text": [
      "    54\n",
      "     6\n",
      "   864\n",
      "    16\n",
      " 48000\n",
      "   120\n",
      " 10080\n",
      "    84\n",
      "   840\n",
      "    10\n",
      "______\n",
      " 60074\n"
     ]
    }
   ],
   "source": [
    "count_parameters(model)"
   ]
  },
  {
   "cell_type": "code",
   "execution_count": 31,
   "id": "2066cb5f",
   "metadata": {},
   "outputs": [],
   "source": [
    "# Now we can define the loss function& optimizer\n",
    "\n",
    "criterion = nn.CrossEntropyLoss()\n",
    "optimizer = torch.optim.Adam(model.parameters(), lr=0.001)"
   ]
  },
  {
   "cell_type": "code",
   "execution_count": 32,
   "id": "1ec601be",
   "metadata": {},
   "outputs": [
    {
     "name": "stdout",
     "output_type": "stream",
     "text": [
      "epoch:  0  batch:  600 [  6000/60000]  loss: 0.04055626  accuracy:  78.417%\n",
      "epoch:  0  batch: 1200 [ 12000/60000]  loss: 0.08253474  accuracy:  85.800%\n",
      "epoch:  0  batch: 1800 [ 18000/60000]  loss: 0.36422700  accuracy:  88.689%\n",
      "epoch:  0  batch: 2400 [ 24000/60000]  loss: 0.01856375  accuracy:  90.537%\n",
      "epoch:  0  batch: 3000 [ 30000/60000]  loss: 0.00725014  accuracy:  91.680%\n",
      "epoch:  0  batch: 3600 [ 36000/60000]  loss: 0.00283014  accuracy:  92.519%\n",
      "epoch:  0  batch: 4200 [ 42000/60000]  loss: 0.60603607  accuracy:  93.176%\n",
      "epoch:  0  batch: 4800 [ 48000/60000]  loss: 0.02749039  accuracy:  93.650%\n",
      "epoch:  0  batch: 5400 [ 54000/60000]  loss: 0.00961081  accuracy:  94.063%\n",
      "epoch:  0  batch: 6000 [ 60000/60000]  loss: 0.07729806  accuracy:  94.372%\n",
      "epoch:  1  batch:  600 [  6000/60000]  loss: 0.00660070  accuracy:  97.850%\n",
      "epoch:  1  batch: 1200 [ 12000/60000]  loss: 0.03760716  accuracy:  97.875%\n",
      "epoch:  1  batch: 1800 [ 18000/60000]  loss: 0.00606966  accuracy:  97.928%\n",
      "epoch:  1  batch: 2400 [ 24000/60000]  loss: 0.05895779  accuracy:  97.929%\n",
      "epoch:  1  batch: 3000 [ 30000/60000]  loss: 0.22788763  accuracy:  97.920%\n",
      "epoch:  1  batch: 3600 [ 36000/60000]  loss: 0.00048906  accuracy:  97.911%\n",
      "epoch:  1  batch: 4200 [ 42000/60000]  loss: 0.00141813  accuracy:  97.976%\n",
      "epoch:  1  batch: 4800 [ 48000/60000]  loss: 0.00102084  accuracy:  97.981%\n",
      "epoch:  1  batch: 5400 [ 54000/60000]  loss: 0.00031802  accuracy:  98.000%\n",
      "epoch:  1  batch: 6000 [ 60000/60000]  loss: 0.03299556  accuracy:  97.992%\n",
      "epoch:  2  batch:  600 [  6000/60000]  loss: 0.00050107  accuracy:  98.883%\n",
      "epoch:  2  batch: 1200 [ 12000/60000]  loss: 0.00392462  accuracy:  98.658%\n",
      "epoch:  2  batch: 1800 [ 18000/60000]  loss: 0.00040026  accuracy:  98.556%\n",
      "epoch:  2  batch: 2400 [ 24000/60000]  loss: 0.00046546  accuracy:  98.617%\n",
      "epoch:  2  batch: 3000 [ 30000/60000]  loss: 0.24049552  accuracy:  98.553%\n",
      "epoch:  2  batch: 3600 [ 36000/60000]  loss: 0.08418670  accuracy:  98.539%\n",
      "epoch:  2  batch: 4200 [ 42000/60000]  loss: 0.00925240  accuracy:  98.502%\n",
      "epoch:  2  batch: 4800 [ 48000/60000]  loss: 0.00408795  accuracy:  98.513%\n",
      "epoch:  2  batch: 5400 [ 54000/60000]  loss: 0.00023507  accuracy:  98.513%\n",
      "epoch:  2  batch: 6000 [ 60000/60000]  loss: 0.00014111  accuracy:  98.503%\n",
      "epoch:  3  batch:  600 [  6000/60000]  loss: 0.00049400  accuracy:  98.933%\n",
      "epoch:  3  batch: 1200 [ 12000/60000]  loss: 0.05219357  accuracy:  98.883%\n",
      "epoch:  3  batch: 1800 [ 18000/60000]  loss: 0.00008783  accuracy:  98.900%\n",
      "epoch:  3  batch: 2400 [ 24000/60000]  loss: 0.00019533  accuracy:  98.858%\n",
      "epoch:  3  batch: 3000 [ 30000/60000]  loss: 0.00885276  accuracy:  98.850%\n",
      "epoch:  3  batch: 3600 [ 36000/60000]  loss: 0.00199650  accuracy:  98.819%\n",
      "epoch:  3  batch: 4200 [ 42000/60000]  loss: 0.00138346  accuracy:  98.843%\n",
      "epoch:  3  batch: 4800 [ 48000/60000]  loss: 0.00400933  accuracy:  98.848%\n",
      "epoch:  3  batch: 5400 [ 54000/60000]  loss: 0.00146152  accuracy:  98.844%\n",
      "epoch:  3  batch: 6000 [ 60000/60000]  loss: 0.09724578  accuracy:  98.840%\n",
      "epoch:  4  batch:  600 [  6000/60000]  loss: 0.00095372  accuracy:  99.117%\n",
      "epoch:  4  batch: 1200 [ 12000/60000]  loss: 0.10904588  accuracy:  99.050%\n",
      "epoch:  4  batch: 1800 [ 18000/60000]  loss: 0.00044924  accuracy:  99.083%\n",
      "epoch:  4  batch: 2400 [ 24000/60000]  loss: 0.00028527  accuracy:  99.054%\n",
      "epoch:  4  batch: 3000 [ 30000/60000]  loss: 0.03194860  accuracy:  99.053%\n",
      "epoch:  4  batch: 3600 [ 36000/60000]  loss: 0.04142218  accuracy:  99.078%\n",
      "epoch:  4  batch: 4200 [ 42000/60000]  loss: 0.00011473  accuracy:  99.081%\n",
      "epoch:  4  batch: 4800 [ 48000/60000]  loss: 0.00054412  accuracy:  99.069%\n",
      "epoch:  4  batch: 5400 [ 54000/60000]  loss: 0.00019615  accuracy:  99.035%\n",
      "epoch:  4  batch: 6000 [ 60000/60000]  loss: 0.00076892  accuracy:  99.040%\n",
      "\n",
      "Duration: 138 seconds\n"
     ]
    }
   ],
   "source": [
    "# Model training\n",
    "\n",
    "\n",
    "import time\n",
    "start_time = time.time()\n",
    "\n",
    "epochs = 5\n",
    "train_losses = []\n",
    "test_losses = []\n",
    "train_correct = []\n",
    "test_correct = []\n",
    "\n",
    "for i in range(epochs):\n",
    "    trn_corr = 0\n",
    "    tst_corr = 0\n",
    "    \n",
    "    # Run the training batches\n",
    "    for b, (X_train, y_train) in enumerate(train_loader):\n",
    "        b+=1\n",
    "        \n",
    "        # Apply the model\n",
    "        y_pred = model(X_train)  # we don't flatten X-train here\n",
    "        loss = criterion(y_pred, y_train)\n",
    " \n",
    "        # Tally the number of correct predictions\n",
    "        predicted = torch.max(y_pred.data, 1)[1]\n",
    "        batch_corr = (predicted == y_train).sum()\n",
    "        trn_corr += batch_corr\n",
    "        \n",
    "        # Update parameters\n",
    "        optimizer.zero_grad()\n",
    "        loss.backward()\n",
    "        optimizer.step()\n",
    "        \n",
    "        # Print interim results\n",
    "        if b%600 == 0:\n",
    "            print(f'epoch: {i:2}  batch: {b:4} [{10*b:6}/60000]  loss: {loss.item():10.8f}  \\\n",
    "accuracy: {trn_corr.item()*100/(10*b):7.3f}%')\n",
    "        \n",
    "    train_losses.append(loss)\n",
    "    train_correct.append(trn_corr)\n",
    "        \n",
    "    # Run the testing batches\n",
    "    with torch.no_grad():\n",
    "        for b, (X_test, y_test) in enumerate(test_loader):\n",
    "\n",
    "            # Apply the model\n",
    "            y_val = model(X_test)\n",
    "\n",
    "            # Tally the number of correct predictions\n",
    "            predicted = torch.max(y_val.data, 1)[1] \n",
    "            tst_corr += (predicted == y_test).sum()\n",
    "            \n",
    "    loss = criterion(y_val, y_test)\n",
    "    test_losses.append(loss)\n",
    "    test_correct.append(tst_corr)\n",
    "        \n",
    "print(f'\\nDuration: {time.time() - start_time:.0f} seconds') # print the time elapsed            "
   ]
  },
  {
   "cell_type": "code",
   "execution_count": 24,
   "id": "fe349286",
   "metadata": {},
   "outputs": [
    {
     "data": {
      "text/plain": [
       "[tensor(0.0020),\n",
       " tensor(0.0044),\n",
       " tensor(0.0020),\n",
       " tensor(2.2602e-05),\n",
       " tensor(1.1360e-05)]"
      ]
     },
     "execution_count": 24,
     "metadata": {},
     "output_type": "execute_result"
    }
   ],
   "source": [
    "test_losses"
   ]
  },
  {
   "cell_type": "code",
   "execution_count": 25,
   "id": "74e6081a",
   "metadata": {},
   "outputs": [
    {
     "data": {
      "image/png": "[encoded data removed]",
      "text/plain": [
       "<Figure size 432x288 with 1 Axes>"
      ]
     },
     "metadata": {
      "needs_background": "light"
     },
     "output_type": "display_data"
    }
   ],
   "source": [
    "# Plotting the accuracy\n",
    "\n",
    "plt.plot([t/600 for t in train_correct], label='training accuracy')\n",
    "plt.plot([t/100 for t in test_correct], label='validation accuracy')\n",
    "plt.title('Accuracy at the end of each epoch')\n",
    "plt.legend();"
   ]
  },
  {
   "cell_type": "code",
   "execution_count": 33,
   "id": "b7096fe5",
   "metadata": {},
   "outputs": [],
   "source": [
    "# Need to extract data all at once this time\n",
    "test_load_all = DataLoader(test_data, batch_size=10000, shuffle=False)"
   ]
  },
  {
   "cell_type": "code",
   "execution_count": 34,
   "id": "42230e9d",
   "metadata": {},
   "outputs": [
    {
     "name": "stdout",
     "output_type": "stream",
     "text": [
      "Test accuracy: 9888/10000 =  98.880%\n"
     ]
    }
   ],
   "source": [
    "# Evaluate test data\n",
    "\n",
    "with torch.no_grad():\n",
    "    correct = 0\n",
    "    for X_test, y_test in test_load_all:\n",
    "        y_val = model(X_test)  # we don't flatten the data this time\n",
    "        predicted = torch.max(y_val,1)[1]\n",
    "        correct += (predicted == y_test).sum()\n",
    "print(f'Test accuracy: {correct.item()}/{len(test_data)} = {correct.item()*100/(len(test_data)):7.3f}%')"
   ]
  },
  {
   "cell_type": "code",
   "execution_count": 36,
   "id": "27d87480",
   "metadata": {},
   "outputs": [
    {
     "name": "stdout",
     "output_type": "stream",
     "text": [
      "[[   0    1    2    3    4    5    6    7    8    9]]\n",
      "\n",
      "[[ 978    0    2    0    0    2    6    0    5    0]\n",
      " [   0 1133    2    1    0    0    4    2    0    0]\n",
      " [   0    0 1015    0    0    0    1    4    2    1]\n",
      " [   0    0    1 1003    0   11    0    0    1    1]\n",
      " [   0    1    1    0  979    0    2    1    1    7]\n",
      " [   0    0    0    2    0  873    4    0    0    3]\n",
      " [   1    0    0    0    1    1  940    0    0    0]\n",
      " [   1    1   10    2    0    0    0 1016    2    5]\n",
      " [   0    0    1    2    0    1    1    2  961    2]\n",
      " [   0    0    0    0    2    4    0    3    2  990]]\n"
     ]
    }
   ],
   "source": [
    "# Here is the confusion matrix\n",
    "\n",
    "# print a row of values for reference\n",
    "np.set_printoptions(formatter=dict(int=lambda x: f'{x:4}'))\n",
    "print(np.arange(10).reshape(1,10))\n",
    "print()\n",
    "\n",
    "# print the confusion matrix\n",
    "print(confusion_matrix(predicted.view(-1), y_test.view(-1)))"
   ]
  },
  {
   "cell_type": "code",
   "execution_count": 37,
   "id": "b609a070",
   "metadata": {},
   "outputs": [
    {
     "data": {
      "text/plain": [
       "112"
      ]
     },
     "execution_count": 37,
     "metadata": {},
     "output_type": "execute_result"
    }
   ],
   "source": [
    "# What images were missed?\n",
    "\n",
    "misses = np.array([])\n",
    "for i in range(len(predicted.view(-1))):\n",
    "    if predicted[i] != y_test[i]:\n",
    "        misses = np.append(misses,i).astype('int64')\n",
    "        \n",
    "# Display the number of misses\n",
    "len(misses)"
   ]
  },
  {
   "cell_type": "code",
   "execution_count": 38,
   "id": "17cfce3f",
   "metadata": {},
   "outputs": [
    {
     "data": {
      "text/plain": [
       "array([  18,  320,  321,  340,  359,  445,  471,  495,  582,  659],\n",
       "      dtype=int64)"
      ]
     },
     "execution_count": 38,
     "metadata": {},
     "output_type": "execute_result"
    }
   ],
   "source": [
    "# Display the first 10 index positions\n",
    "misses[:10]"
   ]
  },
  {
   "cell_type": "code",
   "execution_count": 39,
   "id": "fcad3f4b",
   "metadata": {},
   "outputs": [],
   "source": [
    "# Set up an iterator to feed batched rows\n",
    "r = 12   # row size\n",
    "row = iter(np.array_split(misses,len(misses)//r+1))"
   ]
  },
  {
   "cell_type": "code",
   "execution_count": 40,
   "id": "ca433e01",
   "metadata": {},
   "outputs": [
    {
     "name": "stdout",
     "output_type": "stream",
     "text": [
      "Index: [  18  320  321  340  359  445  471  495  582  659  674  720]\n",
      "Label: [   3    9    2    5    9    6    9    8    8    2    5    5]\n",
      "Guess: [   8    8    7    3    4    0    7    0    2    1    3    8]\n"
     ]
    },
    {
     "data": {
      "image/png": "[encoded data removed]",
      "text/plain": [
       "<Figure size 720x288 with 1 Axes>"
      ]
     },
     "metadata": {
      "needs_background": "light"
     },
     "output_type": "display_data"
    }
   ],
   "source": [
    "# Let's see how messed up the images were\n",
    "\n",
    "nextrow = next(row)\n",
    "print(\"Index:\", nextrow)\n",
    "print(\"Label:\", y_test.index_select(0,torch.tensor(nextrow)).numpy())\n",
    "print(\"Guess:\", predicted.index_select(0,torch.tensor(nextrow)).numpy())\n",
    "\n",
    "images = X_test.index_select(0,torch.tensor(nextrow))\n",
    "im = make_grid(images, nrow=r)\n",
    "plt.figure(figsize=(10,4))\n",
    "plt.imshow(np.transpose(im.numpy(), (1, 2, 0)));"
   ]
  },
  {
   "cell_type": "code",
   "execution_count": 45,
   "id": "96439b06",
   "metadata": {},
   "outputs": [
    {
     "data": {
      "image/png": "[encoded data removed]",
      "text/plain": [
       "<Figure size 72x72 with 1 Axes>"
      ]
     },
     "metadata": {
      "needs_background": "light"
     },
     "output_type": "display_data"
    }
   ],
   "source": [
    "# Now we can predict an image from the dataset!\n",
    "x = 420\n",
    "plt.figure(figsize=(1,1))\n",
    "plt.imshow(test_data[x][0].reshape((28,28)), cmap=\"gist_yarg\");"
   ]
  },
  {
   "cell_type": "code",
   "execution_count": 46,
   "id": "b544848c",
   "metadata": {},
   "outputs": [
    {
     "name": "stdout",
     "output_type": "stream",
     "text": [
      "Predicted value: 4\n"
     ]
    }
   ],
   "source": [
    "model.eval()\n",
    "with torch.no_grad():\n",
    "    new_pred = model(test_data[x][0].view(1,1,28,28)).argmax()\n",
    "print(\"Predicted value:\",new_pred.item())"
   ]
  },
  {
   "cell_type": "code",
   "execution_count": 47,
   "id": "ed71f213",
   "metadata": {},
   "outputs": [],
   "source": [
    "# 4 is 4! Very cool!"
   ]
  },
  {
   "cell_type": "code",
   "execution_count": null,
   "id": "c6d374ef",
   "metadata": {},
   "outputs": [],
   "source": []
  }
 ],
 "metadata": {
  "kernelspec": {
   "display_name": "Python 3 (ipykernel)",
   "language": "python",
   "name": "python3"
  },
  "language_info": {
   "codemirror_mode": {
    "name": "ipython",
    "version": 3
   },
   "file_extension": ".py",
   "mimetype": "text/x-python",
   "name": "python",
   "nbconvert_exporter": "python",
   "pygments_lexer": "ipython3",
   "version": "3.9.7"
  }
 },
 "nbformat": 4,
 "nbformat_minor": 5
}
